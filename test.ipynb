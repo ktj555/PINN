{
 "cells": [
  {
   "cell_type": "code",
   "execution_count": 1,
   "metadata": {},
   "outputs": [],
   "source": [
    "import torch\n",
    "from torch.utils.data import DataLoader\n",
    "import torch.nn as nn\n",
    "import torch.optim as optim\n",
    "\n",
    "from generater import ChangableBC, BC, Domain\n",
    "\n",
    "import pickle\n",
    "import os"
   ]
  },
  {
   "cell_type": "code",
   "execution_count": 2,
   "metadata": {},
   "outputs": [],
   "source": [
    "class mynet(nn.Module):\n",
    "    def __init__(self,act):\n",
    "        super(mynet,self).__init__()\n",
    "\n",
    "        self.main_node = [2,5,10,30,50,30,10,5,3,1]\n",
    "\n",
    "        self.activate = act\n",
    "\n",
    "        sum_of_node = 0\n",
    "        for i in self.main_node:\n",
    "            sum_of_node += i\n",
    "\n",
    "        self.BCNet = nn.Sequential(\n",
    "            nn.Linear(4*10*3,50),\n",
    "            nn.Tanh(),\n",
    "            nn.Linear(50,10),\n",
    "            nn.Tanh(),\n",
    "            nn.Linear(10,len(self.main_node) - 1)\n",
    "        )\n",
    "\n",
    "        layer_list = []\n",
    "\n",
    "        for i,j in zip(self.main_node[:-1],self.main_node[1:]):\n",
    "            layer_list.append(nn.Linear(i + 1,j))\n",
    "\n",
    "        self.mainNet = nn.ModuleList(layer_list)\n",
    "    \n",
    "    def forward(self,x):\n",
    "        x_for_main = x[:,:2]\n",
    "        x_for_BC = x[:,2:]\n",
    "\n",
    "        additional_input = self.BCNet(x_for_BC)\n",
    "\n",
    "\n",
    "        input = x_for_main\n",
    "        start = 0\n",
    "        end = self.main_node[0]\n",
    "\n",
    "\n",
    "        for i,layer in enumerate(self.mainNet):\n",
    "            input = torch.hstack((input,additional_input[:,i].view(-1,1)))\n",
    "            input = layer(input)\n",
    "            input = self.activate(input)\n",
    "\n",
    "            # start += self.main_node[i]\n",
    "            # end += self.main_node[i+1]\n",
    "\n",
    "        return input"
   ]
  },
  {
   "cell_type": "code",
   "execution_count": 3,
   "metadata": {},
   "outputs": [],
   "source": [
    "num_train = 1000\n",
    "num_test = 100\n",
    "\n",
    "train_dataset = ChangableBC(Domain([0,0.01],[0,0.01]),\n",
    "                            n_data = num_train,\n",
    "                            num_each_bc = 10,\n",
    "                            max_noize = 20).set_BC_value(up=[500,'value'],\n",
    "                                                         down=[300,'value'],\n",
    "                                                         right=[300,'value'],\n",
    "                                                         left=[300,'value'])\n",
    "train_dataloader = DataLoader(train_dataset, batch_size = 32, shuffle = True)\n",
    "\n",
    "test_dataset = BC(Domain([0,0.01],[0,0.01]),\n",
    "                    n_data = num_test,\n",
    "                    num_each_bc = 10).set_BC_value(up=[490,'value'],\n",
    "                                                    down=[315,'value'],\n",
    "                                                    right=[360,'value'],\n",
    "                                                    left=[270,'value'])\n",
    "test_dataloader = DataLoader(test_dataset, batch_size = 8 , shuffle=True)"
   ]
  },
  {
   "cell_type": "code",
   "execution_count": 4,
   "metadata": {},
   "outputs": [],
   "source": [
    "model = mynet(torch.nn.LeakyReLU())\n",
    "loss_fn = nn.MSELoss()\n",
    "optimizer = optim.Adam(model.parameters(),lr = 0.001)\n",
    "\n",
    "checkpoint_path = 'model_test_checkpoint.pth'\n",
    "if os.path.exists(checkpoint_path):\n",
    "    checkpoint = torch.load(checkpoint_path)\n",
    "    model.load_state_dict(checkpoint['model_state_dict'])\n",
    "    optimizer.load_state_dict(checkpoint['optimizer_state_dict'])\n",
    "    epoch_ = checkpoint['epoch']\n",
    "else:\n",
    "    epoch_ = 0"
   ]
  },
  {
   "cell_type": "code",
   "execution_count": 6,
   "metadata": {},
   "outputs": [],
   "source": [
    "def equation(net,input):\n",
    "    x = input[:,0].view(-1,1)\n",
    "    y = input[:,1].view(-1,1)\n",
    "    space = torch.hstack([x,y])\n",
    "    T = net(torch.hstack((space,input[:,2:])))\n",
    "    dTdx = torch.autograd.grad(T,x,torch.ones_like(T),create_graph=True)[0]\n",
    "    dTdy = torch.autograd.grad(T,y,torch.ones_like(T),create_graph=True)[0]\n",
    "    ddTddx = torch.autograd.grad(dTdx,x,torch.ones_like(dTdx),retain_graph=True)[0]\n",
    "    ddTddy = torch.autograd.grad(dTdy,y,torch.ones_like(dTdy),retain_graph=True)[0]\n",
    "    \n",
    "    return ddTddx + ddTddy"
   ]
  },
  {
   "cell_type": "code",
   "execution_count": null,
   "metadata": {},
   "outputs": [],
   "source": [
    "num_epoch = 10000\n",
    "verbose = 10\n",
    "\n",
    "history = []\n",
    "\n",
    "for epoch in range(epoch_ + 1,epoch_ + num_epoch + 1):\n",
    "    Total_Loss = 0\n",
    "    Total_data_size = 0\n",
    "\n",
    "    for domain_data, labels in train_dataloader:\n",
    "        optimizer.zero_grad()\n",
    "\n",
    "        BC_data, interior_data = domain_data\n",
    "        Residual_label, BC_label = labels\n",
    "\n",
    "        BC_pred = model(BC_data)\n",
    "        BC_loss = loss_fn(BC_pred, BC_label)\n",
    "\n",
    "        Residual_pred = equation(model,interior_data)\n",
    "        Residual = loss_fn(Residual_pred, Residual_label)\n",
    "\n",
    "        total_loss = BC_loss + Residual\n",
    "        Total_Loss += total_loss * len(BC_data)\n",
    "        Total_data_size += len(BC_data)\n",
    "\n",
    "        total_loss.backward()\n",
    "        optimizer.step()\n",
    "        print(\"iteration : {:.4f} %\".format(Total_data_size / num_train * 100),end = '\\r')\n",
    "\n",
    "    Total_Loss /= Total_data_size\n",
    "    if(epoch%verbose==0):\n",
    "        print(f\"Epoch : [{epoch}/{epoch_ + num_epoch}], Loss : {Total_Loss:.4f}\")\n",
    "\n",
    "    history.append([epoch,Total_Loss])\n",
    "\n",
    "    torch.save({\n",
    "        'epoch':epoch,\n",
    "        'model_state_dict':model.state_dict(),\n",
    "        'optimizer_state_dict':optimizer.state_dict()\n",
    "    },checkpoint_path)"
   ]
  },
  {
   "cell_type": "code",
   "execution_count": 7,
   "metadata": {},
   "outputs": [],
   "source": [
    "import matplotlib.pyplot as plt\n",
    "import numpy as np"
   ]
  },
  {
   "cell_type": "code",
   "execution_count": null,
   "metadata": {},
   "outputs": [],
   "source": [
    "history_array = np.array([[i,j.data.item()] for i,j in history])\n",
    "\n",
    "e = history_array[:,0]\n",
    "l = history_array[:,1]\n",
    "\n",
    "plt.plot(e,l)\n"
   ]
  },
  {
   "cell_type": "code",
   "execution_count": null,
   "metadata": {},
   "outputs": [],
   "source": [
    "test = BC(Domain([0,0.01],[0,0.01]),\n",
    "        n_data = 1000,\n",
    "        num_each_bc = 10).set_BC_value(up=[500,'value'],\n",
    "                                        down=[300,'value'],\n",
    "                                        right=[300,'value'],\n",
    "                                        left=[300,'value'])\n",
    "\n",
    "test_loader = DataLoader(test,batch_size = 100)"
   ]
  },
  {
   "cell_type": "code",
   "execution_count": null,
   "metadata": {},
   "outputs": [],
   "source": [
    "Total_Loss = 0\n",
    "Total_data_size = 0\n",
    "\n",
    "coordinate=[]\n",
    "Temp = []\n",
    "\n",
    "for domain_data, labels in test_loader:\n",
    "    optimizer.zero_grad()\n",
    "\n",
    "    BC_data, interior_data = domain_data\n",
    "    Residual_label, BC_label = labels\n",
    "\n",
    "    coordinate.append(BC_data[:,:2])\n",
    "    coordinate.append(interior_data[:,:2])\n",
    "\n",
    "    BC_pred = model(BC_data)\n",
    "    BC_loss = loss_fn(BC_pred, BC_label)\n",
    "\n",
    "    Residual_pred = equation(model,interior_data)\n",
    "    Residual = loss_fn(Residual_pred, Residual_label)\n",
    "\n",
    "\n",
    "    total_loss = BC_loss + Residual\n",
    "    Total_Loss += total_loss * len(BC_data)\n",
    "    Total_data_size += len(BC_data)\n",
    "\n",
    "Total_Loss /= Total_data_size\n",
    "print(f\"Loss : {Total_Loss:.4f}\")"
   ]
  },
  {
   "cell_type": "code",
   "execution_count": 8,
   "metadata": {},
   "outputs": [
    {
     "data": {
      "text/plain": [
       "torch.Size([100, 122])"
      ]
     },
     "execution_count": 8,
     "metadata": {},
     "output_type": "execute_result"
    }
   ],
   "source": [
    "bc_sub_domain = np.linspace(0,0.01,10+2)[1:-1]\n",
    "bc_down_domain = np.array([[i,0] for i in bc_sub_domain],dtype=np.float32)\n",
    "bc_down_label = np.ones_like(bc_down_domain[:,0],dtype=np.float32) * 300\n",
    "bc_up_domain = np.array([[i,0.01] for i in bc_sub_domain],dtype=np.float32)\n",
    "bc_up_label = np.ones_like(bc_up_domain[:,0],dtype=np.float32) * 500\n",
    "bc_right_domain = np.array([[0.01,i] for i in bc_sub_domain],dtype=np.float32)\n",
    "bc_right_label = np.ones_like(bc_right_domain[:,0],dtype=np.float32) * 300\n",
    "bc_left_domain = np.array([[0,i] for i in bc_sub_domain],dtype=np.float32)\n",
    "bc_left_label = np.ones_like(bc_left_domain[:,0],dtype=np.float32) * 300\n",
    "bc_domain = np.vstack([bc_down_domain,bc_up_domain,bc_right_domain,bc_left_domain])\n",
    "bc_label = np.vstack([bc_down_label,bc_up_label,bc_right_label,bc_left_label]).reshape(-1,1)\n",
    "\n",
    "bc_data = np.hstack([bc_domain,bc_label]).reshape(1,-1)\n",
    "\n",
    "interior_domain = np.array([[i,j]for i in np.linspace(0,0.01,10+2)[1:-1] for j in np.linspace(0,0.01,10+2)[1:-1]],dtype=np.float32)\n",
    "bc_data = np.tile(bc_data,(interior_domain.shape[0],1))\n",
    "\n",
    "test_data = torch.from_numpy(np.hstack([interior_domain,bc_data]))\n",
    "test_data.shape"
   ]
  },
  {
   "cell_type": "code",
   "execution_count": 9,
   "metadata": {},
   "outputs": [],
   "source": [
    "temp_field = model(test_data)\n",
    "pred_data = torch.hstack([test_data[:,:2],temp_field])"
   ]
  },
  {
   "cell_type": "code",
   "execution_count": 10,
   "metadata": {},
   "outputs": [
    {
     "data": {
      "text/plain": [
       "array([[299.98074341, 299.98086548, 299.98104858, 299.98123169,\n",
       "        299.98141479, 299.9815979 , 300.02713013, 300.0017395 ,\n",
       "        299.97628784, 299.95083618],\n",
       "       [299.9838562 , 299.98403931, 299.98422241, 299.98440552,\n",
       "        299.98458862, 299.98471069, 300.03030396, 300.00485229,\n",
       "        299.97946167, 299.95401001],\n",
       "       [299.98696899, 299.9871521 , 299.98733521, 299.98751831,\n",
       "        299.98770142, 299.98788452, 300.03347778, 300.00802612,\n",
       "        299.98251343, 299.9571228 ],\n",
       "       [299.99014282, 299.99026489, 299.990448  , 299.9906311 ,\n",
       "        299.99075317, 299.99093628, 300.03659058, 300.01119995,\n",
       "        299.98574829, 299.96029663],\n",
       "       [299.99319458, 299.99337769, 299.99356079, 299.99368286,\n",
       "        299.99386597, 299.99404907, 300.0397644 , 300.01431274,\n",
       "        299.98892212, 299.96340942],\n",
       "       [299.99624634, 299.99649048, 299.99667358, 299.99685669,\n",
       "        299.99703979, 299.99716187, 300.0428772 , 300.01748657,\n",
       "        299.99203491, 299.96664429],\n",
       "       [299.99942017, 299.99960327, 299.99978638, 299.99996948,\n",
       "        300.00015259, 300.00027466, 300.04605103, 300.0206604 ,\n",
       "        299.99514771, 299.96975708],\n",
       "       [300.00253296, 300.00271606, 300.00289917, 300.00308228,\n",
       "        300.00320435, 300.00338745, 300.04922485, 300.02371216,\n",
       "        299.99832153, 299.97293091],\n",
       "       [300.00564575, 300.00582886, 300.00595093, 300.00613403,\n",
       "        300.00637817, 300.00650024, 300.05233765, 300.02688599,\n",
       "        300.00149536, 299.97610474],\n",
       "       [300.00875854, 300.00894165, 300.00906372, 300.00924683,\n",
       "        300.00949097, 300.00961304, 300.05545044, 300.03005981,\n",
       "        300.00466919, 299.97921753]])"
      ]
     },
     "execution_count": 10,
     "metadata": {},
     "output_type": "execute_result"
    }
   ],
   "source": [
    "space = pred_data[:,:2] * 1100\n",
    "index = np.array([[int(i)-1,int(j)-1] for i,j in space])\n",
    "temp = np.zeros([10,10])\n",
    "\n",
    "for u,[i,j] in enumerate(index):\n",
    "    temp[i][j] = pred_data[u][2]\n",
    "\n",
    "temp"
   ]
  },
  {
   "cell_type": "code",
   "execution_count": 11,
   "metadata": {},
   "outputs": [
    {
     "data": {
      "text/plain": [
       "<matplotlib.colorbar.Colorbar at 0x1f150caf400>"
      ]
     },
     "execution_count": 11,
     "metadata": {},
     "output_type": "execute_result"
    },
    {
     "data": {
      "image/png": "[encoded data removed]",
      "text/plain": [
       "<Figure size 640x480 with 2 Axes>"
      ]
     },
     "metadata": {},
     "output_type": "display_data"
    }
   ],
   "source": [
    "plt.imshow(temp)\n",
    "plt.colorbar()"
   ]
  },
  {
   "cell_type": "code",
   "execution_count": null,
   "metadata": {},
   "outputs": [],
   "source": [
    "import torch"
   ]
  },
  {
   "cell_type": "code",
   "execution_count": null,
   "metadata": {},
   "outputs": [],
   "source": [
    "torch.rand()"
   ]
  },
  {
   "cell_type": "code",
   "execution_count": null,
   "metadata": {},
   "outputs": [],
   "source": [
    "1 + 2 * torch.rand(1,1)"
   ]
  },
  {
   "cell_type": "code",
   "execution_count": null,
   "metadata": {},
   "outputs": [],
   "source": [
    "a = torch.Tensor([[1,3],[2,4],[3,6]])\n",
    "a.view(1,-1)"
   ]
  },
  {
   "cell_type": "code",
   "execution_count": null,
   "metadata": {},
   "outputs": [],
   "source": [
    "x, y =torch.meshgrid(torch.linspace(0,1,3),torch.linspace(0,1,3))\n",
    "torch.hstack([x.reshape(-1,1),y.reshape(-1,1)])"
   ]
  },
  {
   "cell_type": "code",
   "execution_count": null,
   "metadata": {},
   "outputs": [],
   "source": [
    "torch.linspace(0,1,5)"
   ]
  },
  {
   "cell_type": "code",
   "execution_count": null,
   "metadata": {},
   "outputs": [],
   "source": [
    "from math import floor\n",
    "\n",
    "def g(n):\n",
    "    x, y = torch.meshgrid(torch.linspace(0,1,floor(n**0.5)+3)[1:-1],torch.linspace(0,1,floor(n**0.5) + 3)[1:-1])\n",
    "    return torch.hstack([x.reshape(-1,1),y.reshape(-1,1)])[:n,:]\n",
    "g(13)"
   ]
  },
  {
   "cell_type": "code",
   "execution_count": null,
   "metadata": {},
   "outputs": [],
   "source": [
    "a = torch.arange(0,16).reshape(4,4)\n",
    "a.flatten()"
   ]
  },
  {
   "cell_type": "code",
   "execution_count": null,
   "metadata": {},
   "outputs": [],
   "source": [
    "a = torch.Tensor([1,2,3,4,5])\n",
    "b = torch.Tensor([4,5])\n",
    "torch.hstack([a,b])"
   ]
  },
  {
   "cell_type": "code",
   "execution_count": null,
   "metadata": {},
   "outputs": [],
   "source": [
    "a[torch.randperm(a.size(0))]"
   ]
  },
  {
   "cell_type": "code",
   "execution_count": 2,
   "metadata": {},
   "outputs": [],
   "source": [
    "import data\n",
    "from data import Condition, gen"
   ]
  },
  {
   "cell_type": "code",
   "execution_count": 3,
   "metadata": {},
   "outputs": [
    {
     "name": "stderr",
     "output_type": "stream",
     "text": [
      "c:\\Users\\xowls\\anaconda3\\lib\\site-packages\\torch\\functional.py:478: UserWarning: torch.meshgrid: in an upcoming release, it will be required to pass the indexing argument. (Triggered internally at  C:\\b\\abs_bao0hdcrdh\\croot\\pytorch_1675190257512\\work\\aten\\src\\ATen\\native\\TensorShape.cpp:2895.)\n",
      "  return _VF.meshgrid(tensors, **kwargs)  # type: ignore[attr-defined]\n"
     ]
    }
   ],
   "source": [
    "C = Condition(x_min = 0,\n",
    "              x_max = 1,\n",
    "              y_min = 0,\n",
    "              y_max = 1,\n",
    "              num_each_bc = 4)\n",
    "\n",
    "d = gen(condition=C,\n",
    "        n_data = 5,\n",
    "        mode = 0,\n",
    "        BC_values={'up':1,'down':2,'right':3,'left':4})"
   ]
  },
  {
   "cell_type": "code",
   "execution_count": 6,
   "metadata": {},
   "outputs": [],
   "source": [
    "IN_cord,BC_input,BC_cord,BC_label = d[4]"
   ]
  },
  {
   "cell_type": "code",
   "execution_count": 7,
   "metadata": {},
   "outputs": [
    {
     "data": {
      "text/plain": [
       "(tensor([0.5000, 0.5000], grad_fn=<SelectBackward0>),\n",
       " tensor([0.0000, 0.6000], grad_fn=<SliceBackward0>),\n",
       " tensor(4., grad_fn=<SelectBackward0>))"
      ]
     },
     "execution_count": 7,
     "metadata": {},
     "output_type": "execute_result"
    }
   ],
   "source": [
    "IN_cord,BC_cord,BC_label"
   ]
  },
  {
   "cell_type": "code",
   "execution_count": 1,
   "metadata": {},
   "outputs": [],
   "source": [
    "import torch\n",
    "import matplotlib.pyplot as plt"
   ]
  },
  {
   "cell_type": "code",
   "execution_count": 4,
   "metadata": {},
   "outputs": [
    {
     "name": "stdout",
     "output_type": "stream",
     "text": [
      "torch.Size([100, 100]) torch.Size([100, 100]) torch.Size([100, 100])\n"
     ]
    },
    {
     "data": {
      "text/plain": [
       "<matplotlib.contour.QuadContourSet at 0x287d99a4640>"
      ]
     },
     "execution_count": 4,
     "metadata": {},
     "output_type": "execute_result"
    },
    {
     "data": {
      "image/png": "[encoded data removed]",
      "text/plain": [
       "<Figure size 640x480 with 1 Axes>"
      ]
     },
     "metadata": {},
     "output_type": "display_data"
    }
   ],
   "source": [
    "x = torch.linspace(0,1,100)\n",
    "y = torch.linspace(0,1,100)\n",
    "\n",
    "def f(x,y):\n",
    "    return x*y\n",
    "\n",
    "x,y = torch.meshgrid(x,y,indexing='ij')\n",
    "z = f(x,y)\n",
    "\n",
    "print(x.shape,y.shape,z.shape)\n",
    "plt.contourf(x,y,z)"
   ]
  },
  {
   "cell_type": "code",
   "execution_count": null,
   "metadata": {},
   "outputs": [],
   "source": []
  }
 ],
 "metadata": {
  "kernelspec": {
   "display_name": "base",
   "language": "python",
   "name": "python3"
  },
  "language_info": {
   "codemirror_mode": {
    "name": "ipython",
    "version": 3
   },
   "file_extension": ".py",
   "mimetype": "text/x-python",
   "name": "python",
   "nbconvert_exporter": "python",
   "pygments_lexer": "ipython3",
   "version": "3.10.9"
  },
  "orig_nbformat": 4
 },
 "nbformat": 4,
 "nbformat_minor": 2
}
