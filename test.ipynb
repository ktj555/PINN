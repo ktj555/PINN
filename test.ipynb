{
 "cells": [
  {
   "cell_type": "code",
   "execution_count": 136,
   "metadata": {},
   "outputs": [],
   "source": [
    "import torch\n",
    "from torch.utils.data import DataLoader\n",
    "import generater\n",
    "\n",
    "import pickle"
   ]
  },
  {
   "cell_type": "code",
   "execution_count": 140,
   "metadata": {},
   "outputs": [],
   "source": [
    "train_dataset = ChangableBC(Domain([0,1],[0,1]),\n",
    "          n_data = 2**10,\n",
    "          num_each_bc = 100,\n",
    "          max_noize = 20).set_BC_value(up=[500.0,'value'],\n",
    "                                           down=[300.0,'value'],\n",
    "                                           right=[400.0,'value'],\n",
    "                                           left=[300.0,'value'])\n",
    "\n",
    "test_dataset = BC(Domain([0,1],[0,1]),\n",
    "                  n_data = 2**5,\n",
    "                  num_each_bc = 100).set_BC_value(up=[500.0,'value'],\n",
    "                                                    down=[300.0,'value'],\n",
    "                                                    right=[400.0,'value'],\n",
    "                                                    left=[300.0,'value'])\n",
    "\n",
    "with open('train_dataset.pkl', 'wb') as f:\n",
    "    pickle.dump(train_dataset,f)\n",
    "\n",
    "with open('test_dataset.pkl','wb') as f:\n",
    "    pickle.dump(test_dataset,f)"
   ]
  },
  {
   "cell_type": "code",
   "execution_count": null,
   "metadata": {},
   "outputs": [],
   "source": [
    "train_dataloader = DataLoader(train_dataset,batch_size = 32, shuffle=True)\n",
    "test_dataloader = DataLoader(test_dataset,batch_size=32,shuffle=True)"
   ]
  }
 ],
 "metadata": {
  "kernelspec": {
   "display_name": "base",
   "language": "python",
   "name": "python3"
  },
  "language_info": {
   "codemirror_mode": {
    "name": "ipython",
    "version": 3
   },
   "file_extension": ".py",
   "mimetype": "text/x-python",
   "name": "python",
   "nbconvert_exporter": "python",
   "pygments_lexer": "ipython3",
   "version": "3.10.9"
  },
  "orig_nbformat": 4
 },
 "nbformat": 4,
 "nbformat_minor": 2
}
